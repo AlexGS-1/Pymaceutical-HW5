{
 "cells": [
  {
   "cell_type": "markdown",
   "metadata": {},
   "source": [
    "## Observations and Insights"
   ]
  },
  {
   "cell_type": "markdown",
   "metadata": {},
   "source": [
    "It is seen from the data in the boxplots that the most effective treatments were Capomulin, and Ramican with similar distributions. This similarites are further proven in our summary stats table.\n",
    "\n",
    "There is a strong positive correlation between mice weight and the size of the tumor the developed. The bigger the mice, the bigger the tumor volume\n",
    "\n",
    "It is possible that we are missing more data from the other drug regimens to make more accurate conclusions of which drug regimen is more effective, as the availability for data points is higher, and in the same amount for both Capomulin, and Ramican Drug Regimens. Our conclusions may be a little biased due to this.\n",
    "\n",
    "Our data is evenly distributed between female, and male mice so we can conclude that the effectivness of the drug regimens may not depend on sex. Further analysis with a scatter plot may be an option to test this hypothesis. \n",
    "\n",
    "In the Capomulin method for a specific mice the Regimen we can see through the line chart that the results from the final volume boxplots makes sense. The tumor did become smaller over time. "
   ]
  },
  {
   "cell_type": "markdown",
   "metadata": {},
   "source": [
    "## Dependencies and starter code"
   ]
  },
  {
   "cell_type": "code",
   "execution_count": 303,
   "metadata": {},
   "outputs": [],
   "source": [
    "# Dependencies and Setup\n",
    "import matplotlib.pyplot as plt\n",
    "import pandas as pd\n",
    "import scipy.stats as st\n",
    "import numpy as np\n",
    "from sklearn import datasets\n",
    "from scipy.stats import linregress\n",
    "\n",
    "# Study data files\n",
    "mouse_metadata = \"data/Mouse_metadata.csv\"\n",
    "study_results = \"data/Study_results.csv\"\n",
    "\n",
    "# Read the mouse data and the study results\n",
    "mouse_metadata = pd.read_csv(mouse_metadata)\n",
    "study_results = pd.read_csv(study_results)\n",
    "\n",
    "\n",
    "# Combine the data into a single dataset\n",
    "df_mouse =pd.merge(mouse_metadata , study_results, on=\"Mouse ID\")\n"
   ]
  },
  {
   "cell_type": "markdown",
   "metadata": {},
   "source": [
    "## Summary statistics"
   ]
  },
  {
   "cell_type": "code",
   "execution_count": 304,
   "metadata": {},
   "outputs": [
    {
     "data": {
      "text/html": [
       "<div>\n",
       "<style scoped>\n",
       "    .dataframe tbody tr th:only-of-type {\n",
       "        vertical-align: middle;\n",
       "    }\n",
       "\n",
       "    .dataframe tbody tr th {\n",
       "        vertical-align: top;\n",
       "    }\n",
       "\n",
       "    .dataframe thead th {\n",
       "        text-align: right;\n",
       "    }\n",
       "</style>\n",
       "<table border=\"1\" class=\"dataframe\">\n",
       "  <thead>\n",
       "    <tr style=\"text-align: right;\">\n",
       "      <th></th>\n",
       "      <th>mean</th>\n",
       "      <th>median</th>\n",
       "      <th>var</th>\n",
       "      <th>std</th>\n",
       "      <th>sem</th>\n",
       "    </tr>\n",
       "    <tr>\n",
       "      <th>Drug Regimen</th>\n",
       "      <th></th>\n",
       "      <th></th>\n",
       "      <th></th>\n",
       "      <th></th>\n",
       "      <th></th>\n",
       "    </tr>\n",
       "  </thead>\n",
       "  <tbody>\n",
       "    <tr>\n",
       "      <th>Capomulin</th>\n",
       "      <td>40.675741</td>\n",
       "      <td>41.557809</td>\n",
       "      <td>24.947764</td>\n",
       "      <td>4.994774</td>\n",
       "      <td>0.329346</td>\n",
       "    </tr>\n",
       "    <tr>\n",
       "      <th>Ceftamin</th>\n",
       "      <td>52.591172</td>\n",
       "      <td>51.776157</td>\n",
       "      <td>39.290177</td>\n",
       "      <td>6.268188</td>\n",
       "      <td>0.469821</td>\n",
       "    </tr>\n",
       "    <tr>\n",
       "      <th>Infubinol</th>\n",
       "      <td>52.884795</td>\n",
       "      <td>51.820584</td>\n",
       "      <td>43.128684</td>\n",
       "      <td>6.567243</td>\n",
       "      <td>0.492236</td>\n",
       "    </tr>\n",
       "    <tr>\n",
       "      <th>Ketapril</th>\n",
       "      <td>55.235638</td>\n",
       "      <td>53.698743</td>\n",
       "      <td>68.553577</td>\n",
       "      <td>8.279709</td>\n",
       "      <td>0.603860</td>\n",
       "    </tr>\n",
       "    <tr>\n",
       "      <th>Naftisol</th>\n",
       "      <td>54.331565</td>\n",
       "      <td>52.509285</td>\n",
       "      <td>66.173479</td>\n",
       "      <td>8.134708</td>\n",
       "      <td>0.596466</td>\n",
       "    </tr>\n",
       "    <tr>\n",
       "      <th>Placebo</th>\n",
       "      <td>54.033581</td>\n",
       "      <td>52.288934</td>\n",
       "      <td>61.168083</td>\n",
       "      <td>7.821003</td>\n",
       "      <td>0.581331</td>\n",
       "    </tr>\n",
       "    <tr>\n",
       "      <th>Propriva</th>\n",
       "      <td>52.322552</td>\n",
       "      <td>50.854632</td>\n",
       "      <td>42.351070</td>\n",
       "      <td>6.507770</td>\n",
       "      <td>0.512884</td>\n",
       "    </tr>\n",
       "    <tr>\n",
       "      <th>Ramicane</th>\n",
       "      <td>40.216745</td>\n",
       "      <td>40.673236</td>\n",
       "      <td>23.486704</td>\n",
       "      <td>4.846308</td>\n",
       "      <td>0.320955</td>\n",
       "    </tr>\n",
       "    <tr>\n",
       "      <th>Stelasyn</th>\n",
       "      <td>54.233149</td>\n",
       "      <td>52.431737</td>\n",
       "      <td>59.450562</td>\n",
       "      <td>7.710419</td>\n",
       "      <td>0.573111</td>\n",
       "    </tr>\n",
       "    <tr>\n",
       "      <th>Zoniferol</th>\n",
       "      <td>53.236507</td>\n",
       "      <td>51.818479</td>\n",
       "      <td>48.533355</td>\n",
       "      <td>6.966589</td>\n",
       "      <td>0.516398</td>\n",
       "    </tr>\n",
       "  </tbody>\n",
       "</table>\n",
       "</div>"
      ],
      "text/plain": [
       "                   mean     median        var       std       sem\n",
       "Drug Regimen                                                     \n",
       "Capomulin     40.675741  41.557809  24.947764  4.994774  0.329346\n",
       "Ceftamin      52.591172  51.776157  39.290177  6.268188  0.469821\n",
       "Infubinol     52.884795  51.820584  43.128684  6.567243  0.492236\n",
       "Ketapril      55.235638  53.698743  68.553577  8.279709  0.603860\n",
       "Naftisol      54.331565  52.509285  66.173479  8.134708  0.596466\n",
       "Placebo       54.033581  52.288934  61.168083  7.821003  0.581331\n",
       "Propriva      52.322552  50.854632  42.351070  6.507770  0.512884\n",
       "Ramicane      40.216745  40.673236  23.486704  4.846308  0.320955\n",
       "Stelasyn      54.233149  52.431737  59.450562  7.710419  0.573111\n",
       "Zoniferol     53.236507  51.818479  48.533355  6.966589  0.516398"
      ]
     },
     "execution_count": 304,
     "metadata": {},
     "output_type": "execute_result"
    }
   ],
   "source": [
    "# Generate a summary statistics table of mean, median, variance, standard deviation, and SEM of the tumor volume for each regimen\n",
    "df_mouse_summarystats =df_mouse.groupby('Drug Regimen')['Tumor Volume (mm3)'].agg(['mean', 'median','var','std','sem'])\n",
    "df_mouse_summarystats"
   ]
  },
  {
   "cell_type": "markdown",
   "metadata": {},
   "source": [
    "## Bar plots"
   ]
  },
  {
   "cell_type": "code",
   "execution_count": 315,
   "metadata": {},
   "outputs": [
    {
     "data": {
      "text/plain": [
       "Text(0, 0.5, 'Number of data points')"
      ]
     },
     "execution_count": 315,
     "metadata": {},
     "output_type": "execute_result"
    },
    {
     "data": {
      "image/png": "[encoded data removed]",
      "text/plain": [
       "<Figure size 432x288 with 1 Axes>"
      ]
     },
     "metadata": {
      "needs_background": "light"
     },
     "output_type": "display_data"
    }
   ],
   "source": [
    "# Generate a bar plot showing number of data points for each treatment regimen using pandas\n",
    "count_makers = df_mouse.groupby('Drug Regimen')['Drug Regimen'].count()\n",
    "count_makers =count_makers.sort_values(ascending=False)\n",
    "count_makers2 = count_makers #for next step\n",
    "count_makers =pd.DataFrame(count_makers)\n",
    "\n",
    "my_colors = 'rgbkymc'\n",
    "bar_chart = count_makers.plot(kind='bar',color= my_colors, title = 'Number of data points per treatment regime')\n",
    "bar_chart.legend().remove()\n",
    "bar_chart.set_xlabel('Treatment Regime')\n",
    "bar_chart.set_ylabel('Number of data points')"
   ]
  },
  {
   "cell_type": "code",
   "execution_count": 320,
   "metadata": {},
   "outputs": [
    {
     "data": {
      "image/png": "[encoded data removed]",
      "text/plain": [
       "<Figure size 432x288 with 1 Axes>"
      ]
     },
     "metadata": {
      "needs_background": "light"
     },
     "output_type": "display_data"
    }
   ],
   "source": [
    "# Generate a bar plot showing number of data points for each treatment regimen using pyplot\n",
    "Regimes = count_makers2.index.to_numpy()\n",
    "Counts = count_makers2.to_numpy()\n",
    "\n",
    "x_axis = np.arange(len(Regimes))\n",
    "my_colors = 'rgbkymc' \n",
    "plt.bar(x_axis, Counts, color=my_colors, align=\"center\")\n",
    "tick_locations = [value for value in x_axis]\n",
    "plt.xticks(tick_locations, Regimes,rotation=\"vertical\")\n",
    "\n",
    "\n",
    "plt.title(\"Number of data points per treatment regime\")\n",
    "plt.xlabel(\"Treatment Regime\")\n",
    "plt.ylabel(\"Number of data points\")\n",
    "plt.tight_layout()"
   ]
  },
  {
   "cell_type": "markdown",
   "metadata": {},
   "source": [
    "## Pie plots"
   ]
  },
  {
   "cell_type": "code",
   "execution_count": 321,
   "metadata": {},
   "outputs": [
    {
     "data": {
      "image/png": "[encoded data removed]",
      "text/plain": [
       "<Figure size 360x360 with 1 Axes>"
      ]
     },
     "metadata": {},
     "output_type": "display_data"
    }
   ],
   "source": [
    "# Generate a pie plot showing the distribution of female versus male mice using pandas\n",
    "df_mouse_sexes=df_mouse.groupby('Sex')['Sex'].count()\n",
    "\n",
    "df_mouses_sexes= pd.DataFrame(df_mouse_sexes)\n",
    "\n",
    "colors = [\"blue\", \"orange\"]\n",
    "\n",
    "sex_list= 'Sex' #I tried to make it with df_mouses_sexes.keys() but I got the following error : TypeError: Index.name must be a hashable type\n",
    "\n",
    "sex_pie = df_mouses_sexes.plot(kind='pie',colors= colors ,y =sex_list,figsize=(5, 5), title='Male, and Female Distribution',autopct=\"%1.1f%%\" ) "
   ]
  },
  {
   "cell_type": "code",
   "execution_count": 322,
   "metadata": {},
   "outputs": [
    {
     "data": {
      "text/plain": [
       "<matplotlib.legend.Legend at 0x1a25aab150>"
      ]
     },
     "execution_count": 322,
     "metadata": {},
     "output_type": "execute_result"
    },
    {
     "data": {
      "image/png": "[encoded data removed]",
      "text/plain": [
       "<Figure size 432x288 with 1 Axes>"
      ]
     },
     "metadata": {},
     "output_type": "display_data"
    }
   ],
   "source": [
    "# Generate a pie plot showing the distribution of female versus male mice using pyplot\n",
    "\n",
    "Sex = df_mouse_sexes.index.to_numpy()\n",
    "\n",
    "Counts_Sex = df_mouse_sexes.to_numpy()\n",
    "colors = [\"blue\", \"orange\"]\n",
    "\n",
    "plt.pie(Counts_Sex, labels=Sex, colors=colors, autopct=\"%1.1f%%\")\n",
    "plt.title('Male, and Female Distribution')\n",
    "plt.ylabel('Sex')\n",
    "plt.legend(Sex,\n",
    "          loc=\"center left\",\n",
    "          bbox_to_anchor=(1, .42, 0, 1))"
   ]
  },
  {
   "cell_type": "markdown",
   "metadata": {},
   "source": [
    "## Quartiles, outliers and boxplots"
   ]
  },
  {
   "cell_type": "code",
   "execution_count": 323,
   "metadata": {},
   "outputs": [
    {
     "data": {
      "text/html": [
       "<div>\n",
       "<style scoped>\n",
       "    .dataframe tbody tr th:only-of-type {\n",
       "        vertical-align: middle;\n",
       "    }\n",
       "\n",
       "    .dataframe tbody tr th {\n",
       "        vertical-align: top;\n",
       "    }\n",
       "\n",
       "    .dataframe thead th {\n",
       "        text-align: right;\n",
       "    }\n",
       "</style>\n",
       "<table border=\"1\" class=\"dataframe\">\n",
       "  <thead>\n",
       "    <tr style=\"text-align: right;\">\n",
       "      <th></th>\n",
       "      <th>Mouse ID</th>\n",
       "      <th>Drug Regimen</th>\n",
       "      <th>Timepoint</th>\n",
       "      <th>Tumor Volume (mm3)</th>\n",
       "    </tr>\n",
       "  </thead>\n",
       "  <tbody>\n",
       "    <tr>\n",
       "      <th>0</th>\n",
       "      <td>a203</td>\n",
       "      <td>Infubinol</td>\n",
       "      <td>45</td>\n",
       "      <td>67.973419</td>\n",
       "    </tr>\n",
       "    <tr>\n",
       "      <th>1</th>\n",
       "      <td>a251</td>\n",
       "      <td>Infubinol</td>\n",
       "      <td>45</td>\n",
       "      <td>65.525743</td>\n",
       "    </tr>\n",
       "    <tr>\n",
       "      <th>2</th>\n",
       "      <td>a275</td>\n",
       "      <td>Ceftamin</td>\n",
       "      <td>45</td>\n",
       "      <td>62.999356</td>\n",
       "    </tr>\n",
       "    <tr>\n",
       "      <th>3</th>\n",
       "      <td>a411</td>\n",
       "      <td>Ramicane</td>\n",
       "      <td>45</td>\n",
       "      <td>38.407618</td>\n",
       "    </tr>\n",
       "    <tr>\n",
       "      <th>4</th>\n",
       "      <td>a444</td>\n",
       "      <td>Ramicane</td>\n",
       "      <td>45</td>\n",
       "      <td>43.047543</td>\n",
       "    </tr>\n",
       "    <tr>\n",
       "      <th>...</th>\n",
       "      <td>...</td>\n",
       "      <td>...</td>\n",
       "      <td>...</td>\n",
       "      <td>...</td>\n",
       "    </tr>\n",
       "    <tr>\n",
       "      <th>95</th>\n",
       "      <td>y769</td>\n",
       "      <td>Ceftamin</td>\n",
       "      <td>45</td>\n",
       "      <td>68.594745</td>\n",
       "    </tr>\n",
       "    <tr>\n",
       "      <th>96</th>\n",
       "      <td>y793</td>\n",
       "      <td>Capomulin</td>\n",
       "      <td>45</td>\n",
       "      <td>31.896238</td>\n",
       "    </tr>\n",
       "    <tr>\n",
       "      <th>97</th>\n",
       "      <td>y865</td>\n",
       "      <td>Ceftamin</td>\n",
       "      <td>45</td>\n",
       "      <td>64.729837</td>\n",
       "    </tr>\n",
       "    <tr>\n",
       "      <th>98</th>\n",
       "      <td>z578</td>\n",
       "      <td>Ramicane</td>\n",
       "      <td>45</td>\n",
       "      <td>30.638696</td>\n",
       "    </tr>\n",
       "    <tr>\n",
       "      <th>99</th>\n",
       "      <td>z581</td>\n",
       "      <td>Infubinol</td>\n",
       "      <td>45</td>\n",
       "      <td>62.754451</td>\n",
       "    </tr>\n",
       "  </tbody>\n",
       "</table>\n",
       "<p>100 rows × 4 columns</p>\n",
       "</div>"
      ],
      "text/plain": [
       "   Mouse ID Drug Regimen  Timepoint  Tumor Volume (mm3)\n",
       "0      a203    Infubinol         45           67.973419\n",
       "1      a251    Infubinol         45           65.525743\n",
       "2      a275     Ceftamin         45           62.999356\n",
       "3      a411     Ramicane         45           38.407618\n",
       "4      a444     Ramicane         45           43.047543\n",
       "..      ...          ...        ...                 ...\n",
       "95     y769     Ceftamin         45           68.594745\n",
       "96     y793    Capomulin         45           31.896238\n",
       "97     y865     Ceftamin         45           64.729837\n",
       "98     z578     Ramicane         45           30.638696\n",
       "99     z581    Infubinol         45           62.754451\n",
       "\n",
       "[100 rows x 4 columns]"
      ]
     },
     "execution_count": 323,
     "metadata": {},
     "output_type": "execute_result"
    }
   ],
   "source": [
    "# Calculate the final tumor volume of each mouse across four of the most promising treatment regimens. Calculate the IQR and quantitatively determine if there are any potential outliers.\n",
    "df_sorted =['Capomulin', 'Ramicane', 'Infubinol', 'Ceftamin']\n",
    "df_mouse_top4=df_mouse[df_mouse['Drug Regimen'].isin(df_sorted)]\n",
    "df_mouse_top4 =pd.DataFrame(df_mouse_top4)\n",
    "\n",
    "df_mouse_top4 #Capomulin, Ramicane, Infubinol, and Ceftamin.\n",
    "df_mouse_top4=df_mouse_top4.reset_index()\n",
    "df_mouse_top4= df_mouse_top4.drop(columns=['index'])\n",
    "df_mouse_top4['ID'] = df_mouse_top4['Mouse ID']+ df_mouse_top4['Drug Regimen']\n",
    "filter1 = df_mouse_top4.groupby('ID')['Timepoint'].max()\n",
    "filter1 =pd.DataFrame(filter1)\n",
    "filter1=filter1.reset_index()\n",
    "\n",
    "\n",
    "df_mouse_top4 = pd.merge(filter1, df_mouse_top4, how='inner').set_index('Drug Regimen')\n",
    "df_mouse_top4= df_mouse_top4.reset_index()\n",
    "final_tumor_vol = df_mouse_top4[['Mouse ID', 'Drug Regimen','Timepoint','Tumor Volume (mm3)']]\n",
    "final_tumor_vol #final tumor volume calculation\n"
   ]
  },
  {
   "cell_type": "code",
   "execution_count": 324,
   "metadata": {},
   "outputs": [
    {
     "data": {
      "text/html": [
       "<div>\n",
       "<style scoped>\n",
       "    .dataframe tbody tr th:only-of-type {\n",
       "        vertical-align: middle;\n",
       "    }\n",
       "\n",
       "    .dataframe tbody tr th {\n",
       "        vertical-align: top;\n",
       "    }\n",
       "\n",
       "    .dataframe thead th {\n",
       "        text-align: right;\n",
       "    }\n",
       "</style>\n",
       "<table border=\"1\" class=\"dataframe\">\n",
       "  <thead>\n",
       "    <tr style=\"text-align: right;\">\n",
       "      <th></th>\n",
       "      <th>IQR</th>\n",
       "    </tr>\n",
       "    <tr>\n",
       "      <th>Drug Regimen</th>\n",
       "      <th></th>\n",
       "    </tr>\n",
       "  </thead>\n",
       "  <tbody>\n",
       "    <tr>\n",
       "      <th>Capomulin</th>\n",
       "      <td>7.781863</td>\n",
       "    </tr>\n",
       "    <tr>\n",
       "      <th>Ceftamin</th>\n",
       "      <td>15.577752</td>\n",
       "    </tr>\n",
       "    <tr>\n",
       "      <th>Infubinol</th>\n",
       "      <td>11.477135</td>\n",
       "    </tr>\n",
       "    <tr>\n",
       "      <th>Ramicane</th>\n",
       "      <td>9.098537</td>\n",
       "    </tr>\n",
       "  </tbody>\n",
       "</table>\n",
       "</div>"
      ],
      "text/plain": [
       "                    IQR\n",
       "Drug Regimen           \n",
       "Capomulin      7.781863\n",
       "Ceftamin      15.577752\n",
       "Infubinol     11.477135\n",
       "Ramicane       9.098537"
      ]
     },
     "execution_count": 324,
     "metadata": {},
     "output_type": "execute_result"
    }
   ],
   "source": [
    "res = df_mouse_top4.groupby(\"Drug Regimen\")[\"Tumor Volume (mm3)\"].quantile([0.25,0.75]).unstack(level = 1)\n",
    "res['IQR'] = res[0.75]-res[0.25] \n",
    "res_IQR= res['IQR']\n",
    "pd.DataFrame(res_IQR)#IQR calculation for each Drug Regimen"
   ]
  },
  {
   "cell_type": "code",
   "execution_count": 327,
   "metadata": {},
   "outputs": [
    {
     "data": {
      "text/html": [
       "<div>\n",
       "<style scoped>\n",
       "    .dataframe tbody tr th:only-of-type {\n",
       "        vertical-align: middle;\n",
       "    }\n",
       "\n",
       "    .dataframe tbody tr th {\n",
       "        vertical-align: top;\n",
       "    }\n",
       "\n",
       "    .dataframe thead th {\n",
       "        text-align: right;\n",
       "    }\n",
       "</style>\n",
       "<table border=\"1\" class=\"dataframe\">\n",
       "  <thead>\n",
       "    <tr style=\"text-align: right;\">\n",
       "      <th></th>\n",
       "      <th></th>\n",
       "      <th>Amount of Potential Outliars</th>\n",
       "    </tr>\n",
       "    <tr>\n",
       "      <th>Mouse ID</th>\n",
       "      <th>Drug Regimen</th>\n",
       "      <th></th>\n",
       "    </tr>\n",
       "  </thead>\n",
       "  <tbody>\n",
       "    <tr>\n",
       "      <th>c326</th>\n",
       "      <th>Infubinol</th>\n",
       "      <td>1</td>\n",
       "    </tr>\n",
       "  </tbody>\n",
       "</table>\n",
       "</div>"
      ],
      "text/plain": [
       "                       Amount of Potential Outliars\n",
       "Mouse ID Drug Regimen                              \n",
       "c326     Infubinol                                1"
      ]
     },
     "execution_count": 327,
     "metadata": {},
     "output_type": "execute_result"
    }
   ],
   "source": [
    "res['Lower_Q-1.5IQR']= res[0.25]-1.5*res['IQR']\n",
    "res['Higher_Q+1.5IQR']=res[0.75]+1.5*res['IQR']\n",
    "\n",
    "\n",
    "df_mouse_outliars= df_mouse_top4.loc[((res.loc[df_mouse_top4['Drug Regimen'], 'Lower_Q-1.5IQR'] > df_mouse_top4[\"Tumor Volume (mm3)\"].values) | (df_mouse_top4[\"Tumor Volume (mm3)\"].values > res.loc[df_mouse_top4['Drug Regimen'],'Higher_Q+1.5IQR'])).values]\n",
    "df_mouse_outliars\n",
    "df_mouse_outliars =df_mouse_outliars.groupby(['Mouse ID','Drug Regimen'])['ID'].count()\n",
    "df_mouse_outliars = pd.DataFrame(df_mouse_outliars)\n",
    "df_mouse_outliars.rename(columns= {'ID': 'Amount of Potential Outliars'})"
   ]
  },
  {
   "cell_type": "code",
   "execution_count": 328,
   "metadata": {},
   "outputs": [
    {
     "data": {
      "image/png": "[encoded data removed]",
      "text/plain": [
       "<Figure size 432x288 with 1 Axes>"
      ]
     },
     "metadata": {
      "needs_background": "light"
     },
     "output_type": "display_data"
    }
   ],
   "source": [
    "# Generate a box plot of the final tumor volume of each mouse across four regimens of interest\n",
    "df_mouse_top4_tumor = df_mouse_top4[['Tumor Volume (mm3)','Drug Regimen']]\n",
    "df_mouse_top4_tumor\n",
    "x1 = df_mouse_top4_tumor[df_mouse_top4_tumor['Drug Regimen']== 'Capomulin']['Tumor Volume (mm3)']\n",
    "x2 = df_mouse_top4_tumor[df_mouse_top4_tumor['Drug Regimen']== 'Ramicane']['Tumor Volume (mm3)']\n",
    "x3 = df_mouse_top4_tumor[df_mouse_top4_tumor['Drug Regimen']== 'Infubinol']['Tumor Volume (mm3)']\n",
    "x4 = df_mouse_top4_tumor[df_mouse_top4_tumor['Drug Regimen']== 'Ceftamin']['Tumor Volume (mm3)']\n",
    "\n",
    "fig1, ax1 = plt.subplots()\n",
    "ax1.set_title('Final Tumor Volume of each Mouse across four regimens of interest')\n",
    "ax1.set_ylabel('Tumor Volume (mm3)')\n",
    "\n",
    "ax1.boxplot([x1, x2, x3,x4],sym = 'r')\n",
    "x_axis = np.arange(0,len(df_sorted))\n",
    "tick_locations = [value+1 for value in x_axis]\n",
    "plt.xticks(tick_locations, df_sorted, rotation=\"horizontal\")\n",
    "plt.show()"
   ]
  },
  {
   "cell_type": "markdown",
   "metadata": {},
   "source": [
    "## Line and scatter plots"
   ]
  },
  {
   "cell_type": "code",
   "execution_count": 329,
   "metadata": {},
   "outputs": [
    {
     "data": {
      "text/plain": [
       "Text(0, 0.5, 'tumor volume')"
      ]
     },
     "execution_count": 329,
     "metadata": {},
     "output_type": "execute_result"
    },
    {
     "data": {
      "image/png": "[encoded data removed]",
      "text/plain": [
       "<Figure size 432x288 with 1 Axes>"
      ]
     },
     "metadata": {
      "needs_background": "light"
     },
     "output_type": "display_data"
    }
   ],
   "source": [
    "# Generate a line plot of time point versus tumor volume for a mouse treated with Capomulin\n",
    "df_Capomulin =df_mouse[df_mouse['Drug Regimen'] == 'Capomulin']\n",
    "df_Capomulin_rat = df_Capomulin[df_Capomulin['Mouse ID']== 's185']\n",
    "df_Capomulin_rat= pd.DataFrame(df_Capomulin_rat)\n",
    "df_Capomulin_rat=df_Capomulin_rat[['Mouse ID', 'Drug Regimen', 'Tumor Volume (mm3)', 'Timepoint','Weight (g)']]\n",
    "\n",
    "ax= df_Capomulin_rat.plot(kind='line', x='Timepoint', y= 'Tumor Volume (mm3)', title ='Time vs tumor volume for Mice s185 under Capomulin Drug Regimen' )\n",
    "ax.set_ylabel(\"tumor volume\")\n"
   ]
  },
  {
   "cell_type": "code",
   "execution_count": 330,
   "metadata": {},
   "outputs": [
    {
     "data": {
      "image/png": "[encoded data removed]",
      "text/plain": [
       "<Figure size 576x576 with 1 Axes>"
      ]
     },
     "metadata": {
      "needs_background": "light"
     },
     "output_type": "display_data"
    }
   ],
   "source": [
    "# Generate a scatter plot of mouse weight versus average tumor volume for the Capomulin regimen\n",
    "df_Capomulin =df_mouse[df_mouse['Drug Regimen'] == 'Capomulin']\n",
    "df_Capomulin = df_Capomulin.groupby(['Weight (g)','Mouse ID'])['Tumor Volume (mm3)'].mean()\n",
    "df_Capomulin = df_Capomulin.reset_index()\n",
    "\n",
    "\n",
    "ax2= df_Capomulin.plot(kind='scatter', x='Weight (g)', y='Tumor Volume (mm3)', grid= True,figsize=(8,8),title='Weight vs Average tumor volume')\n"
   ]
  },
  {
   "cell_type": "code",
   "execution_count": 331,
   "metadata": {},
   "outputs": [
    {
     "name": "stdout",
     "output_type": "stream",
     "text": [
      "The correlation between both factors is 0.84\n"
     ]
    }
   ],
   "source": [
    "# Calculate the correlation coefficient and linear regression model for mouse weight and average tumor volume for the Capomulin regimen\n",
    "Weight = df_Capomulin.loc[:,'Weight (g)']\n",
    "Tumor= df_Capomulin.loc[:,'Tumor Volume (mm3)']\n",
    "correlation = st.pearsonr(Weight,Tumor)\n",
    "print(f\"The correlation between both factors is {round(correlation[0],2)}\")"
   ]
  },
  {
   "cell_type": "code",
   "execution_count": 333,
   "metadata": {},
   "outputs": [
    {
     "data": {
      "text/plain": [
       "Text(0, 0.5, 'Tumor Volume (mm3)')"
      ]
     },
     "execution_count": 333,
     "metadata": {},
     "output_type": "execute_result"
    },
    {
     "data": {
      "image/png": "[encoded data removed]",
      "text/plain": [
       "<Figure size 432x288 with 1 Axes>"
      ]
     },
     "metadata": {
      "needs_background": "light"
     },
     "output_type": "display_data"
    }
   ],
   "source": [
    "x_values = df_Capomulin['Weight (g)']\n",
    "y_values = df_Capomulin['Tumor Volume (mm3)']\n",
    "(slope, intercept, rvalue, pvalue, stderr) = linregress(x_values, y_values) #() return are tuple\n",
    "regress_values = x_values * slope + intercept\n",
    "line_eq = \"y = \" + str(round(slope,2)) + \"x + \" + str(round(intercept,2))\n",
    "plt.scatter(x_values,y_values)\n",
    "plt.plot(x_values,regress_values,\"r-\")\n",
    "plt.annotate(line_eq,(6,10),fontsize=15,color=\"red\")\n",
    "plt.title('Weight vs Average tumor volume')\n",
    "plt.xlabel('Weight (g)')\n",
    "plt.ylabel('Tumor Volume (mm3)')"
   ]
  },
  {
   "cell_type": "code",
   "execution_count": null,
   "metadata": {},
   "outputs": [],
   "source": []
  }
 ],
 "metadata": {
  "anaconda-cloud": {},
  "kernelspec": {
   "display_name": "Python 3",
   "language": "python",
   "name": "python3"
  },
  "language_info": {
   "codemirror_mode": {
    "name": "ipython",
    "version": 3
   },
   "file_extension": ".py",
   "mimetype": "text/x-python",
   "name": "python",
   "nbconvert_exporter": "python",
   "pygments_lexer": "ipython3",
   "version": "3.7.4"
  }
 },
 "nbformat": 4,
 "nbformat_minor": 2
}
